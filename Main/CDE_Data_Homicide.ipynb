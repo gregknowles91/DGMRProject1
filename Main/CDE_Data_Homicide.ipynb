{
 "cells": [
  {
   "cell_type": "code",
   "execution_count": 1,
   "metadata": {},
   "outputs": [],
   "source": [
    "# Dependencies\n",
    "import requests\n",
    "import json\n",
    "from pprint import pprint\n",
    "import pandas as pd\n",
    "import numpy as np\n",
    "\n",
    "# Import the API key\n",
    "from config import api_key"
   ]
  },
  {
   "cell_type": "code",
   "execution_count": 2,
   "metadata": {},
   "outputs": [
    {
     "name": "stdout",
     "output_type": "stream",
     "text": [
      "&API_KEY=plxIeOiKml19bQjmj4FcjuMVKaxpklAw3UeT1cAM\n"
     ]
    }
   ],
   "source": [
    "# Build the endpoint URL\n",
    "base_url = 'https://api.usa.gov/crime/fbi/cde/shr/national?from=01-2016&type=counts&to=12-2023'\n"
   ]
  },
  {
   "cell_type": "code",
   "execution_count": 3,
   "metadata": {},
   "outputs": [],
   "source": [
    "# Run a request to endpoint and convert result to json\n",
    "crime_data = requests.get(base_url, api_key).json()\n",
    "df = pd.DataFrame(crime_data)\n",
    "# df.to_csv(\"Homicide_data.csv\", index=False)\n",
    "# df = pd.read_json(crime_data)\n",
    "\n",
    "\n"
   ]
  },
  {
   "cell_type": "code",
   "execution_count": 4,
   "metadata": {},
   "outputs": [],
   "source": [
    "months = []\n",
    "total_homicides = []\n",
    "homicides_per_capita = []\n",
    "participated_pop = []\n",
    "\n",
    "for index in df[\"actuals\"][\"United States\"]:\n",
    "    months.append(index)\n",
    "    total_homicides.append(df[\"actuals\"][\"United States\"][index])\n",
    "for index in df[\"rates\"][\"United States\"]:\n",
    "    homicides_per_capita.append(df[\"rates\"][\"United States\"][index])\n",
    "for index in df[\"populations\"][\"participated_population\"][\"United States\"]:\n",
    "    participated_pop.append(df[\"populations\"][\"participated_population\"][\"United States\"][index])   \n",
    "\n",
    "\n",
    "df_testing = pd.DataFrame(total_homicides, index=months, columns=[\"Total Homicides\"])\n",
    "df_testing[\"Homicides per Capita\"] = homicides_per_capita\n",
    "df_testing[\"Included Population\"] = participated_pop"
   ]
  },
  {
   "cell_type": "code",
   "execution_count": 5,
   "metadata": {},
   "outputs": [
    {
     "data": {
      "text/html": [
       "<div>\n",
       "<style scoped>\n",
       "    .dataframe tbody tr th:only-of-type {\n",
       "        vertical-align: middle;\n",
       "    }\n",
       "\n",
       "    .dataframe tbody tr th {\n",
       "        vertical-align: top;\n",
       "    }\n",
       "\n",
       "    .dataframe thead th {\n",
       "        text-align: right;\n",
       "    }\n",
       "</style>\n",
       "<table border=\"1\" class=\"dataframe\">\n",
       "  <thead>\n",
       "    <tr style=\"text-align: right;\">\n",
       "      <th></th>\n",
       "      <th>Total Homicides</th>\n",
       "      <th>Homicides per Capita</th>\n",
       "      <th>Included Population</th>\n",
       "    </tr>\n",
       "  </thead>\n",
       "  <tbody>\n",
       "    <tr>\n",
       "      <th>2016-01-01</th>\n",
       "      <td>1134</td>\n",
       "      <td>0.35</td>\n",
       "      <td>316674065</td>\n",
       "    </tr>\n",
       "    <tr>\n",
       "      <th>2016-02-01</th>\n",
       "      <td>973</td>\n",
       "      <td>0.30</td>\n",
       "      <td>316415636</td>\n",
       "    </tr>\n",
       "    <tr>\n",
       "      <th>2016-03-01</th>\n",
       "      <td>1136</td>\n",
       "      <td>0.35</td>\n",
       "      <td>316471293</td>\n",
       "    </tr>\n",
       "    <tr>\n",
       "      <th>2016-04-01</th>\n",
       "      <td>1201</td>\n",
       "      <td>0.37</td>\n",
       "      <td>316125535</td>\n",
       "    </tr>\n",
       "    <tr>\n",
       "      <th>2016-05-01</th>\n",
       "      <td>1304</td>\n",
       "      <td>0.40</td>\n",
       "      <td>315925285</td>\n",
       "    </tr>\n",
       "    <tr>\n",
       "      <th>...</th>\n",
       "      <td>...</td>\n",
       "      <td>...</td>\n",
       "      <td>...</td>\n",
       "    </tr>\n",
       "    <tr>\n",
       "      <th>2023-08-01</th>\n",
       "      <td>1522</td>\n",
       "      <td>0.45</td>\n",
       "      <td>313965753</td>\n",
       "    </tr>\n",
       "    <tr>\n",
       "      <th>2023-09-01</th>\n",
       "      <td>1425</td>\n",
       "      <td>0.42</td>\n",
       "      <td>313322278</td>\n",
       "    </tr>\n",
       "    <tr>\n",
       "      <th>2023-10-01</th>\n",
       "      <td>1468</td>\n",
       "      <td>0.43</td>\n",
       "      <td>312936094</td>\n",
       "    </tr>\n",
       "    <tr>\n",
       "      <th>2023-11-01</th>\n",
       "      <td>1268</td>\n",
       "      <td>0.37</td>\n",
       "      <td>310852582</td>\n",
       "    </tr>\n",
       "    <tr>\n",
       "      <th>2023-12-01</th>\n",
       "      <td>1310</td>\n",
       "      <td>0.39</td>\n",
       "      <td>309170562</td>\n",
       "    </tr>\n",
       "  </tbody>\n",
       "</table>\n",
       "<p>96 rows × 3 columns</p>\n",
       "</div>"
      ],
      "text/plain": [
       "            Total Homicides  Homicides per Capita  Included Population\n",
       "2016-01-01             1134                  0.35            316674065\n",
       "2016-02-01              973                  0.30            316415636\n",
       "2016-03-01             1136                  0.35            316471293\n",
       "2016-04-01             1201                  0.37            316125535\n",
       "2016-05-01             1304                  0.40            315925285\n",
       "...                     ...                   ...                  ...\n",
       "2023-08-01             1522                  0.45            313965753\n",
       "2023-09-01             1425                  0.42            313322278\n",
       "2023-10-01             1468                  0.43            312936094\n",
       "2023-11-01             1268                  0.37            310852582\n",
       "2023-12-01             1310                  0.39            309170562\n",
       "\n",
       "[96 rows x 3 columns]"
      ]
     },
     "execution_count": 5,
     "metadata": {},
     "output_type": "execute_result"
    }
   ],
   "source": [
    "df_testing.index = pd.to_datetime(df_testing.index, format='%m-%Y', errors='coerce')\n",
    "df_sorted = df_testing.sort_index()\n",
    "df_sorted"
   ]
  },
  {
   "cell_type": "code",
   "execution_count": null,
   "metadata": {},
   "outputs": [],
   "source": [
    "df_sorted.to_csv(\"../Resources/Homicide_Data.csv\")"
   ]
  }
 ],
 "metadata": {
  "anaconda-cloud": {},
  "kernelspec": {
   "display_name": "base",
   "language": "python",
   "name": "python3"
  },
  "language_info": {
   "codemirror_mode": {
    "name": "ipython",
    "version": 3
   },
   "file_extension": ".py",
   "mimetype": "text/x-python",
   "name": "python",
   "nbconvert_exporter": "python",
   "pygments_lexer": "ipython3",
   "version": "3.12.3"
  }
 },
 "nbformat": 4,
 "nbformat_minor": 4
}
