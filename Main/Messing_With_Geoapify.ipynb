{
 "cells": [
  {
   "cell_type": "code",
   "execution_count": 2,
   "metadata": {},
   "outputs": [
    {
     "name": "stdout",
     "output_type": "stream",
     "text": [
      "API Response:\n",
      "{'features': [], 'type': 'FeatureCollection'}\n",
      "No features found.\n",
      "'Population: None'\n"
     ]
    }
   ],
   "source": [
    "import requests\n",
    "import json\n",
    "from pprint import pprint\n",
    "\n",
    "def get_population(lat, lon, api_key):\n",
    "    url = f\"https://api.geoapify.com/v2/place-details?\"\n",
    "    response = requests.get(url, params=params)\n",
    "    \n",
    "    if response.status_code == 200:\n",
    "        data = response.json()\n",
    "        print(f\"API Response: {response.status_code}\")\n",
    "        pprint(data)\n",
    "        \n",
    "        if 'features' in data and len(data['features']) > 0:\n",
    "            population = data['features'][0].get('properties', {}).get('population')\n",
    "            pprint(data)\n",
    "            return population\n",
    "        else:\n",
    "            print(\"No features found.\")\n",
    "            return None\n",
    "    else:\n",
    "        print(f\"Error: {response.status_code}\")\n",
    "        return None\n",
    "\n",
    "# Replace with your Geoapify API key\n",
    "api_key = \"de39fee1249f4d39abdb9ed875b2b260\"\n",
    "\n",
    "# Test the function with a latitude and longitude\n",
    "lat = \"32.604064\"\n",
    "lon = \"-85.353048\"\n",
    "features = \"details.population\"\n",
    "\n",
    "params = {\n",
    "    \"lat\": lat,\n",
    "    \"lon\": lon,\n",
    "    \"features\": features,\n",
    "    \"apiKey\": api_key  \n",
    "}\n",
    "\n",
    "population = get_population(lat, lon, api_key)\n",
    "\n",
    "pprint(f\"Population: {population}\")"
   ]
  }
 ],
 "metadata": {
  "kernelspec": {
   "display_name": "base",
   "language": "python",
   "name": "python3"
  },
  "language_info": {
   "codemirror_mode": {
    "name": "ipython",
    "version": 3
   },
   "file_extension": ".py",
   "mimetype": "text/x-python",
   "name": "python",
   "nbconvert_exporter": "python",
   "pygments_lexer": "ipython3",
   "version": "3.12.3"
  }
 },
 "nbformat": 4,
 "nbformat_minor": 2
}
